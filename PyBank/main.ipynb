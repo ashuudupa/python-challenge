{
 "cells": [
  {
   "cell_type": "code",
   "execution_count": 54,
   "id": "a1cc013b",
   "metadata": {},
   "outputs": [],
   "source": [
    "import pandas as pd\n",
    "import os\n",
    "import csv \n",
    "from pathlib import Path \n",
    "\n",
    "df = pd.read_csv('C:/Users/ashuu/OneDrive/Documents/GitHub/python-challenge/PyBank/Resources/budget_data.csv')\n",
    "output = \"financial_analysis.txt\""
   ]
  },
  {
   "cell_type": "code",
   "execution_count": 55,
   "id": "1413754e",
   "metadata": {},
   "outputs": [],
   "source": [
    "datecount = df.count(axis = 1)\n",
    "totalmoney = df['Profit/Losses'].sum()"
   ]
  },
  {
   "cell_type": "code",
   "execution_count": 60,
   "id": "08f393b8",
   "metadata": {},
   "outputs": [
    {
     "name": "stdout",
     "output_type": "stream",
     "text": [
      "Financial Analysis\n",
      "\n",
      "----------------------------\n",
      "\n",
      "Total Months:  86\n",
      "Total Months:  86\n",
      "\n",
      "Total:  $ 22564198\n",
      "\n",
      "Average Change:  $ 262374.3953488372\n",
      "\n",
      "Greatest Increase in Profits:  Date              Sep-16\n",
      "Profit/Losses    1141840\n",
      "dtype: object\n",
      "\n",
      "Greatest Decrease in Profits:  Date               Apr-10\n",
      "Profit/Losses    -1194133\n",
      "dtype: object\n"
     ]
    }
   ],
   "source": [
    "##print(\"Total Months: \" , datecount)\n",
    "    \n",
    "print(\"Financial Analysis\")\n",
    "print()\n",
    "print(\"----------------------------\")\n",
    "print()\n",
    "dev = print(\"Total Months: \",df[df.columns[1]].count())\n",
    "print(\"Total Months: \",df[df.columns[1]].count())\n",
    "print()\n",
    "print(\"Total: \" ,\"$\",totalmoney)\n",
    "print()\n",
    "meanchange = df['Profit/Losses'].mean()\n",
    "print(\"Average Change: \",\"$\",meanchange)\n",
    "print()\n",
    "df2 = df.max(axis = 0)\n",
    "print(\"Greatest Increase in Profits: \",df2)\n",
    "print()\n",
    "df3 = df.min(axis = 0)\n",
    "print(\"Greatest Decrease in Profits: \",df3)"
   ]
  },
  {
   "cell_type": "code",
   "execution_count": 70,
   "id": "764c7b79",
   "metadata": {},
   "outputs": [
    {
     "ename": "TypeError",
     "evalue": "not enough arguments for format string",
     "output_type": "error",
     "traceback": [
      "\u001b[1;31m---------------------------------------------------------------------------\u001b[0m",
      "\u001b[1;31mTypeError\u001b[0m                                 Traceback (most recent call last)",
      "\u001b[1;32m~\\AppData\\Local\\Temp\\ipykernel_860\\3440291069.py\u001b[0m in \u001b[0;36m<module>\u001b[1;34m\u001b[0m\n\u001b[0;32m     14\u001b[0m     \u001b[0mfile\u001b[0m\u001b[1;33m.\u001b[0m\u001b[0mwrite\u001b[0m\u001b[1;33m(\u001b[0m\u001b[1;34m\"\\n\"\u001b[0m\u001b[1;33m)\u001b[0m\u001b[1;33m\u001b[0m\u001b[1;33m\u001b[0m\u001b[0m\n\u001b[0;32m     15\u001b[0m     \u001b[0mdf2\u001b[0m \u001b[1;33m=\u001b[0m \u001b[0mdf\u001b[0m\u001b[1;33m.\u001b[0m\u001b[0mmax\u001b[0m\u001b[1;33m(\u001b[0m\u001b[0maxis\u001b[0m \u001b[1;33m=\u001b[0m \u001b[1;36m0\u001b[0m\u001b[1;33m)\u001b[0m\u001b[1;33m\u001b[0m\u001b[1;33m\u001b[0m\u001b[0m\n\u001b[1;32m---> 16\u001b[1;33m     \u001b[0mfile\u001b[0m\u001b[1;33m.\u001b[0m\u001b[0mwrite\u001b[0m\u001b[1;33m(\u001b[0m\u001b[1;34m\"Greatest Increase in Profits: %s ($%s)\"\u001b[0m \u001b[1;33m%\u001b[0m \u001b[0mdf2\u001b[0m\u001b[1;33m)\u001b[0m\u001b[1;33m\u001b[0m\u001b[1;33m\u001b[0m\u001b[0m\n\u001b[0m\u001b[0;32m     17\u001b[0m     \u001b[0mfile\u001b[0m\u001b[1;33m.\u001b[0m\u001b[0mwrite\u001b[0m\u001b[1;33m(\u001b[0m\u001b[1;34m\"\\n\"\u001b[0m\u001b[1;33m)\u001b[0m\u001b[1;33m\u001b[0m\u001b[1;33m\u001b[0m\u001b[0m\n\u001b[0;32m     18\u001b[0m     \u001b[0mdf3\u001b[0m \u001b[1;33m=\u001b[0m \u001b[0mdf\u001b[0m\u001b[1;33m.\u001b[0m\u001b[0mmin\u001b[0m\u001b[1;33m(\u001b[0m\u001b[0maxis\u001b[0m \u001b[1;33m=\u001b[0m \u001b[1;36m0\u001b[0m\u001b[1;33m)\u001b[0m\u001b[1;33m\u001b[0m\u001b[1;33m\u001b[0m\u001b[0m\n",
      "\u001b[1;31mTypeError\u001b[0m: not enough arguments for format string"
     ]
    }
   ],
   "source": [
    "output = Path('C:/Users/ashuu/OneDrive/Documents/GitHub/python-challenge/PyBank/', \"financial_analysis.txt\")\n",
    "with open(output,\"w\") as file:\n",
    "    \n",
    "    file.write(\"Financial Analysis\")\n",
    "    file.write(\"\\n\")\n",
    "    file.write(\"----------------------------\")\n",
    "    file.write(\"\\n\")\n",
    "    file.write(\"Total Months: \" % df[df.columns[1]].count())\n",
    "    file.write(\"\\n\")\n",
    "    file.write(\"Total:  $%d\" % totalmoney)\n",
    "    file.write(\"\\n\")\n",
    "    meanchange = df['Profit/Losses'].mean()\n",
    "    file.write(\"Average Change:  $%d\" % meanchange)\n",
    "    file.write(\"\\n\")\n",
    "    df2 = df.max(axis = 0)\n",
    "    file.write(\"Greatest Increase in Profits: %s ($%s)\" % df2)\n",
    "    file.write(\"\\n\")\n",
    "    df3 = df.min(axis = 0)\n",
    "    file.write(\"Greatest Decrease in Profits: %s ($%s)\" % df3)"
   ]
  },
  {
   "cell_type": "code",
   "execution_count": null,
   "id": "75ac383f",
   "metadata": {},
   "outputs": [],
   "source": []
  },
  {
   "cell_type": "code",
   "execution_count": null,
   "id": "d01adf96",
   "metadata": {},
   "outputs": [],
   "source": []
  }
 ],
 "metadata": {
  "kernelspec": {
   "display_name": "PythonData",
   "language": "python",
   "name": "pythondata"
  },
  "language_info": {
   "codemirror_mode": {
    "name": "ipython",
    "version": 3
   },
   "file_extension": ".py",
   "mimetype": "text/x-python",
   "name": "python",
   "nbconvert_exporter": "python",
   "pygments_lexer": "ipython3",
   "version": "3.9.13"
  }
 },
 "nbformat": 4,
 "nbformat_minor": 5
}
