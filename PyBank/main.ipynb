{
 "cells": [
  {
   "cell_type": "code",
   "execution_count": 14,
   "id": "a1cc013b",
   "metadata": {},
   "outputs": [],
   "source": [
    "import pandas as pd\n",
    "import os\n",
    "import csv \n",
    "\n",
    "df = pd.read_csv('C:/Users/ashuu/OneDrive/Documents/GitHub/python-challenge/PyBank/Resources/budget_data.csv')\n"
   ]
  },
  {
   "cell_type": "code",
   "execution_count": 15,
   "id": "1413754e",
   "metadata": {},
   "outputs": [],
   "source": [
    "datecount = df.count(axis = 1)\n",
    "totalmoney = df['Profit/Losses'].sum()"
   ]
  },
  {
   "cell_type": "code",
   "execution_count": 16,
   "id": "08f393b8",
   "metadata": {},
   "outputs": [
    {
     "name": "stdout",
     "output_type": "stream",
     "text": [
      "Total Months:  86\n",
      "Total:  $ 22564198\n",
      "Average Change:  $ 262374.3953488372\n"
     ]
    }
   ],
   "source": [
    "##print(\"Total Months: \" , datecount)\n",
    "print(\"Total Months: \",df[df.columns[1]].count())\n",
    "print(\"Total: \" ,\"$\",totalmoney)\n",
    "meanchange = df['Profit/Losses'].mean()\n",
    "print(\"Average Change: \",\"$\",meanchange)"
   ]
  },
  {
   "cell_type": "code",
   "execution_count": 28,
   "id": "764c7b79",
   "metadata": {},
   "outputs": [
    {
     "name": "stdout",
     "output_type": "stream",
     "text": [
      "Date              Sep-16\n",
      "Profit/Losses    1141840\n",
      "dtype: object\n"
     ]
    }
   ],
   "source": [
    "df2 = df.max(axis = 0)\n",
    "print(df2)"
   ]
  },
  {
   "cell_type": "code",
   "execution_count": 30,
   "id": "d61a7231",
   "metadata": {},
   "outputs": [
    {
     "name": "stdout",
     "output_type": "stream",
     "text": [
      "Date               Apr-10\n",
      "Profit/Losses    -1194133\n",
      "dtype: object\n"
     ]
    }
   ],
   "source": [
    "df3 = df.min(axis = 0)\n",
    "print(df3)"
   ]
  },
  {
   "cell_type": "code",
   "execution_count": null,
   "id": "71b9cf09",
   "metadata": {},
   "outputs": [],
   "source": []
  }
 ],
 "metadata": {
  "kernelspec": {
   "display_name": "PythonData",
   "language": "python",
   "name": "pythondata"
  },
  "language_info": {
   "codemirror_mode": {
    "name": "ipython",
    "version": 3
   },
   "file_extension": ".py",
   "mimetype": "text/x-python",
   "name": "python",
   "nbconvert_exporter": "python",
   "pygments_lexer": "ipython3",
   "version": "3.9.13"
  }
 },
 "nbformat": 4,
 "nbformat_minor": 5
}
