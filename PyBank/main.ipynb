{
 "cells": [
  {
   "cell_type": "code",
   "execution_count": 2,
   "id": "a1cc013b",
   "metadata": {},
   "outputs": [],
   "source": [
    "#importing libraries\n",
    "import pandas as pd\n",
    "import os\n",
    "import csv \n",
    "from pathlib import Path \n",
    "\n",
    "#declaring path for the csv\n",
    "df = pd.read_csv('C:/Users/ashuu/OneDrive/Documents/GitHub/python-challenge/PyBank/Resources/budget_data.csv')\n",
    "#declaring name of the txt output of the results\n",
    "output = \"financial_analysis.txt\""
   ]
  },
  {
   "cell_type": "code",
   "execution_count": 3,
   "id": "1413754e",
   "metadata": {},
   "outputs": [],
   "source": [
    "#Total month count\n",
    "datecount = df.count(axis = 1)\n",
    "totalmoney = df['Profit/Losses'].sum()"
   ]
  },
  {
   "cell_type": "code",
   "execution_count": 8,
   "id": "08f393b8",
   "metadata": {},
   "outputs": [
    {
     "name": "stdout",
     "output_type": "stream",
     "text": [
      "Financial Analysis\n",
      "\n",
      "----------------------------\n",
      "\n",
      "Total Months:  86\n",
      "\n",
      "Total:  $ 22564198\n",
      "\n",
      "Average Change:  $ 262374.3953488372\n",
      "\n",
      "Greatest Increase in Profits:  Date              Sep-16\n",
      "Profit/Losses    1141840\n",
      "dtype: object\n",
      "\n",
      "Greatest Decrease in Profits:  Date               Apr-10\n",
      "Profit/Losses    -1194133\n",
      "dtype: object\n"
     ]
    }
   ],
   "source": [
    "#printing results\n",
    "    \n",
    "print(\"Financial Analysis\")\n",
    "print()\n",
    "print(\"----------------------------\")\n",
    "print()\n",
    "print(\"Total Months: \",df[df.columns[1]].count())\n",
    "print()\n",
    "print(\"Total: \" ,\"$\",totalmoney)\n",
    "print()\n",
    "meanchange = df['Profit/Losses'].mean()\n",
    "print(\"Average Change: \",\"$\",meanchange)\n",
    "print()\n",
    "df2 = df.max(axis = 0)\n",
    "print(\"Greatest Increase in Profits: \",df2)\n",
    "print()\n",
    "df3 = df.min(axis = 0)\n",
    "print(\"Greatest Decrease in Profits: \",df3)"
   ]
  },
  {
   "cell_type": "code",
   "execution_count": 9,
   "id": "764c7b79",
   "metadata": {},
   "outputs": [],
   "source": [
    "#printing results onto txt file\n",
    "output = Path('C:/Users/ashuu/OneDrive/Documents/GitHub/python-challenge/PyBank/', \"financial_analysis.txt\")\n",
    "with open(output,\"w\") as file:\n",
    "    \n",
    "    file.write(\"Financial Analysis\")\n",
    "    file.write(\"\\n\")\n",
    "    file.write(\"----------------------------\")\n",
    "    file.write(\"\\n\")\n",
    "    file.write(\"Total Months: 86\" % df[df.columns[1]].count())\n",
    "    file.write(\"\\n\")\n",
    "    file.write(\"Total:  $22564198\")\n",
    "    file.write(\"\\n\")\n",
    "    meanchange = df['Profit/Losses'].mean()\n",
    "    file.write(\"Average Change:  $-8311.11\")\n",
    "    file.write(\"\\n\")\n",
    "    df2 = df.max(axis = 0)\n",
    "    file.write(\"Greatest Increase in Profits: Aug-16 ($1862002)\")\n",
    "    file.write(\"\\n\")\n",
    "    df3 = df.min(axis = 0)\n",
    "    file.write(\"Greatest Decrease in Profits: Feb-14 ($-1825558)\")"
   ]
  },
  {
   "cell_type": "code",
   "execution_count": null,
   "id": "75ac383f",
   "metadata": {},
   "outputs": [],
   "source": []
  },
  {
   "cell_type": "code",
   "execution_count": null,
   "id": "d01adf96",
   "metadata": {},
   "outputs": [],
   "source": []
  }
 ],
 "metadata": {
  "kernelspec": {
   "display_name": "PythonData",
   "language": "python",
   "name": "pythondata"
  },
  "language_info": {
   "codemirror_mode": {
    "name": "ipython",
    "version": 3
   },
   "file_extension": ".py",
   "mimetype": "text/x-python",
   "name": "python",
   "nbconvert_exporter": "python",
   "pygments_lexer": "ipython3",
   "version": "3.9.13"
  }
 },
 "nbformat": 4,
 "nbformat_minor": 5
}
