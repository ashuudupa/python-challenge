{
 "cells": [
  {
   "cell_type": "code",
   "execution_count": 31,
   "id": "a1cc013b",
   "metadata": {},
   "outputs": [],
   "source": [
    "import pandas as pd\n",
    "import os\n",
    "import csv \n",
    "\n",
    "df = pd.read_csv('C:/Users/ashuu/OneDrive/Documents/GitHub/python-challenge/PyBank/Resources/budget_data.csv')\n"
   ]
  },
  {
   "cell_type": "code",
   "execution_count": 32,
   "id": "1413754e",
   "metadata": {},
   "outputs": [],
   "source": [
    "datecount = df.count(axis = 1)\n",
    "totalmoney = df['Profit/Losses'].sum()"
   ]
  },
  {
   "cell_type": "code",
   "execution_count": 38,
   "id": "08f393b8",
   "metadata": {},
   "outputs": [
    {
     "name": "stdout",
     "output_type": "stream",
     "text": [
      "Financial Analysis\n",
      "\n",
      "----------------------------\n",
      "\n",
      "Total Months:  86\n",
      "\n",
      "Total:  $ 22564198\n",
      "\n",
      "Average Change:  $ 262374.3953488372\n",
      "\n",
      "Greatest Increase in Profits:  Date              Sep-16\n",
      "Profit/Losses    1141840\n",
      "dtype: object\n",
      "\n",
      "Greatest Decrease in Profits:  Date               Apr-10\n",
      "Profit/Losses    -1194133\n",
      "dtype: object\n"
     ]
    }
   ],
   "source": [
    "##print(\"Total Months: \" , datecount)\n",
    "print(\"Financial Analysis\")\n",
    "print()\n",
    "print(\"----------------------------\")\n",
    "print()\n",
    "print(\"Total Months: \",df[df.columns[1]].count())\n",
    "print()\n",
    "print(\"Total: \" ,\"$\",totalmoney)\n",
    "print()\n",
    "meanchange = df['Profit/Losses'].mean()\n",
    "print(\"Average Change: \",\"$\",meanchange)\n",
    "print()\n",
    "df2 = df.max(axis = 0)\n",
    "print(\"Greatest Increase in Profits: \",df2)\n",
    "print()\n",
    "df3 = df.min(axis = 0)\n",
    "print(\"Greatest Decrease in Profits: \",df3)"
   ]
  },
  {
   "cell_type": "code",
   "execution_count": null,
   "id": "764c7b79",
   "metadata": {},
   "outputs": [],
   "source": []
  },
  {
   "cell_type": "code",
   "execution_count": null,
   "id": "0e1cb685",
   "metadata": {},
   "outputs": [],
   "source": []
  },
  {
   "cell_type": "code",
   "execution_count": null,
   "id": "75f536f4",
   "metadata": {},
   "outputs": [],
   "source": []
  }
 ],
 "metadata": {
  "kernelspec": {
   "display_name": "PythonData",
   "language": "python",
   "name": "pythondata"
  },
  "language_info": {
   "codemirror_mode": {
    "name": "ipython",
    "version": 3
   },
   "file_extension": ".py",
   "mimetype": "text/x-python",
   "name": "python",
   "nbconvert_exporter": "python",
   "pygments_lexer": "ipython3",
   "version": "3.9.13"
  }
 },
 "nbformat": 4,
 "nbformat_minor": 5
}
