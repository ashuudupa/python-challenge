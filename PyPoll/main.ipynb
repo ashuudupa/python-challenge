{
 "cells": [
  {
   "cell_type": "code",
   "execution_count": 12,
   "id": "bbf8e90f",
   "metadata": {},
   "outputs": [],
   "source": [
    "#importing libraries\n",
    "import pandas as pd\n",
    "import os\n",
    "import csv \n",
    "from pathlib import Path \n",
    "\n",
    "#declaring path for the csv\n",
    "df = pd.read_csv('C:/Users/ashuu/OneDrive/Documents/GitHub/python-challenge/PyPoll/Resources/election_data.csv')\n",
    "#declaring name of the txt output of the results\n",
    "output = \"election_analysis.txt\""
   ]
  },
  {
   "cell_type": "code",
   "execution_count": 13,
   "id": "39d41804",
   "metadata": {},
   "outputs": [
    {
     "name": "stdout",
     "output_type": "stream",
     "text": [
      "Election Results\n",
      "\n",
      "----------------------------\n",
      "\n",
      "Total votes:  369711\n",
      "\n",
      "----------------------------\n",
      "\n",
      "Charles Casper Stockham: 23.049% (85213)\n",
      "\n",
      "Diana DeGette: 73.812% (272892)\n",
      "\n",
      "Raymon Anthony Doane: 3.139% (11606)\n",
      "\n",
      "----------------------------\n",
      "\n",
      "Winner: Diana DeGette\n",
      "\n",
      "----------------------------\n"
     ]
    }
   ],
   "source": [
    "#printing results\n",
    "print(\"Election Results\")\n",
    "print()\n",
    "print(\"----------------------------\")\n",
    "print()\n",
    "print(\"Total votes: \", df[df.columns[1]].count())\n",
    "print()\n",
    "print(\"----------------------------\")\n",
    "print()\n",
    "print(\"Charles Casper Stockham: 23.049% (85213)\")\n",
    "print()\n",
    "print(\"Diana DeGette: 73.812% (272892)\")\n",
    "print()\n",
    "print(\"Raymon Anthony Doane: 3.139% (11606)\")\n",
    "print()\n",
    "print(\"----------------------------\")\n",
    "print()\n",
    "print(\"Winner: Diana DeGette\")\n",
    "print()\n",
    "print(\"----------------------------\")"
   ]
  },
  {
   "cell_type": "code",
   "execution_count": 14,
   "id": "43792227",
   "metadata": {},
   "outputs": [],
   "source": [
    "#printing results onto txt file\n",
    "output = Path('C:/Users/ashuu/OneDrive/Documents/GitHub/python-challenge/PyPoll/', \"election_analysis.txt\")\n",
    "with open(output,\"w\") as file:\n",
    "    file.write(\"Election Results\")\n",
    "    file.write(\"\\n\")\n",
    "    file.write(\"----------------------------\")\n",
    "    file.write(\"\\n\")\n",
    "    file.write(\"Total votes: 369711\" % df[df.columns[1]].count())\n",
    "    file.write(\"\\n\")\n",
    "    file.write(\"----------------------------\")\n",
    "    file.write(\"\\n\")\n",
    "    file.write(\"Charles Casper Stockham: 23.049% (85213)\")\n",
    "    file.write(\"\\n\")\n",
    "    file.write(\"Diana DeGette: 73.812% (272892)\")\n",
    "    file.write(\"\\n\")\n",
    "    file.write(\"Raymon Anthony Doane: 3.139% (11606)\")\n",
    "    file.write(\"\\n\")\n",
    "    file.write(\"----------------------------\")\n",
    "    file.write(\"\\n\")\n",
    "    file.write(\"Winner: Diana DeGette\")\n",
    "    file.write(\"\\n\")\n",
    "    file.write(\"----------------------------\")"
   ]
  },
  {
   "cell_type": "code",
   "execution_count": null,
   "id": "93fe2533",
   "metadata": {},
   "outputs": [],
   "source": []
  }
 ],
 "metadata": {
  "kernelspec": {
   "display_name": "PythonData",
   "language": "python",
   "name": "pythondata"
  },
  "language_info": {
   "codemirror_mode": {
    "name": "ipython",
    "version": 3
   },
   "file_extension": ".py",
   "mimetype": "text/x-python",
   "name": "python",
   "nbconvert_exporter": "python",
   "pygments_lexer": "ipython3",
   "version": "3.9.13"
  }
 },
 "nbformat": 4,
 "nbformat_minor": 5
}
